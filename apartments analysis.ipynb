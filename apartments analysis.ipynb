{
 "cells": [
  {
   "cell_type": "markdown",
   "metadata": {},
   "source": [
    "# Research on apartment sales ads\n",
    "\n",
    "You will have the data from a real estate agency. It is an archive of sales ads for realty in St. Petersburg, Russia, and the surrounding areas collected over the past few years. You’ll need to learn how to determine the market value of real estate properties. Your task is to define the parameters. This will make it possible to build an automated system that is capable of detecting anomalies and fraudulent activity.\n",
    "\n",
    "There are two different types of data available for every apartment for sale. The first type is a user’s input. The second type is received automatically based upon the map data. For example, the distance from the city center, airport, the nearest park or body of water. "
   ]
  },
  {
   "cell_type": "markdown",
   "metadata": {},
   "source": [
    "### Step 1. Open the data file and study the general information. "
   ]
  },
  {
   "cell_type": "code",
   "execution_count": 74,
   "metadata": {},
   "outputs": [
    {
     "name": "stdout",
     "output_type": "stream",
     "text": [
      "<class 'pandas.core.frame.DataFrame'>\n",
      "RangeIndex: 23699 entries, 0 to 23698\n",
      "Data columns (total 22 columns):\n",
      "date_posted          23699 non-null object\n",
      "days_listed          20518 non-null float64\n",
      "last_price           23699 non-null float64\n",
      "bedrooms             23699 non-null int64\n",
      "kitchen_area         21421 non-null float64\n",
      "living_area          21796 non-null float64\n",
      "total_area           23699 non-null float64\n",
      "balconies            12180 non-null float64\n",
      "ceiling_height       14504 non-null float64\n",
      "floors_total         23613 non-null float64\n",
      "floor                23699 non-null int64\n",
      "total_images         23699 non-null int64\n",
      "bike_parking         2775 non-null object\n",
      "is_studio            23699 non-null bool\n",
      "is_open_plan         23699 non-null bool\n",
      "locality_name        23650 non-null object\n",
      "airport_dist         18157 non-null float64\n",
      "city_center_dist     18180 non-null float64\n",
      "park_dist            8079 non-null float64\n",
      "parks_within_3000    18181 non-null float64\n",
      "pond_dist            9110 non-null float64\n",
      "ponds_within_3000    18181 non-null float64\n",
      "dtypes: bool(2), float64(14), int64(3), object(3)\n",
      "memory usage: 3.7+ MB\n",
      "None\n",
      "           date_posted  days_listed  last_price  bedrooms  kitchen_area  \\\n",
      "0  2019-03-07T00:00:00          NaN    260000.0         3          25.0   \n",
      "1  2018-12-04T00:00:00         81.0     67000.0         1          11.0   \n",
      "2  2015-08-20T00:00:00        558.0    103920.0         2           8.3   \n",
      "3  2015-07-24T00:00:00        424.0   1298000.0         3           NaN   \n",
      "4  2018-06-19T00:00:00        121.0    200000.0         2          41.0   \n",
      "\n",
      "   living_area  total_area  balconies  ceiling_height  floors_total  ...  \\\n",
      "0         51.0       108.0        NaN            2.70          16.0  ...   \n",
      "1         18.6        40.4        2.0             NaN          11.0  ...   \n",
      "2         34.3        56.0        0.0             NaN           5.0  ...   \n",
      "3          NaN       159.0        0.0             NaN          14.0  ...   \n",
      "4         32.0       100.0        NaN            3.03          14.0  ...   \n",
      "\n",
      "   bike_parking  is_studio is_open_plan     locality_name  airport_dist  \\\n",
      "0           NaN      False        False  Saint Petersburg       18863.0   \n",
      "1           NaN      False        False  Shushary village       12817.0   \n",
      "2           NaN      False        False  Saint Petersburg       21741.0   \n",
      "3           NaN      False        False  Saint Petersburg       28098.0   \n",
      "4           NaN      False        False  Saint Petersburg       31856.0   \n",
      "\n",
      "  city_center_dist  park_dist  parks_within_3000  pond_dist  ponds_within_3000  \n",
      "0          16028.0      482.0                1.0      755.0                2.0  \n",
      "1          18603.0        NaN                0.0        NaN                0.0  \n",
      "2          13933.0       90.0                1.0      574.0                2.0  \n",
      "3           6800.0       84.0                2.0      234.0                3.0  \n",
      "4           8098.0      112.0                2.0       48.0                1.0  \n",
      "\n",
      "[5 rows x 22 columns]\n"
     ]
    }
   ],
   "source": [
    "import pandas as pd\n",
    "\n",
    "\n",
    "#Separate into indexes using sep method \n",
    "data = pd.read_csv('/datasets/real_estate_data_us.csv',sep='\\t')\n",
    "print(data.info())\n",
    "print(data.head())\n"
   ]
  },
  {
   "cell_type": "markdown",
   "metadata": {},
   "source": [
    "### Conclusion"
   ]
  },
  {
   "cell_type": "markdown",
   "metadata": {},
   "source": [
    "The data file we acquired is a bit hard to read with a human eye as all it was in a single column with \\ as a divider. Used sep='\\t' to separate column values in their own indexes to work with data in a better way.\n"
   ]
  },
  {
   "cell_type": "markdown",
   "metadata": {},
   "source": [
    "### Step 2. Data preprocessing"
   ]
  },
  {
   "cell_type": "code",
   "execution_count": 75,
   "metadata": {},
   "outputs": [
    {
     "data": {
      "text/html": [
       "<div>\n",
       "<style scoped>\n",
       "    .dataframe tbody tr th:only-of-type {\n",
       "        vertical-align: middle;\n",
       "    }\n",
       "\n",
       "    .dataframe tbody tr th {\n",
       "        vertical-align: top;\n",
       "    }\n",
       "\n",
       "    .dataframe thead th {\n",
       "        text-align: right;\n",
       "    }\n",
       "</style>\n",
       "<table border=\"1\" class=\"dataframe\">\n",
       "  <thead>\n",
       "    <tr style=\"text-align: right;\">\n",
       "      <th></th>\n",
       "      <th>days_listed</th>\n",
       "      <th>bedrooms</th>\n",
       "    </tr>\n",
       "  </thead>\n",
       "  <tbody>\n",
       "    <tr>\n",
       "      <td>0</td>\n",
       "      <td>180.888634</td>\n",
       "      <td>3</td>\n",
       "    </tr>\n",
       "    <tr>\n",
       "      <td>1</td>\n",
       "      <td>81.000000</td>\n",
       "      <td>1</td>\n",
       "    </tr>\n",
       "    <tr>\n",
       "      <td>2</td>\n",
       "      <td>558.000000</td>\n",
       "      <td>2</td>\n",
       "    </tr>\n",
       "    <tr>\n",
       "      <td>3</td>\n",
       "      <td>424.000000</td>\n",
       "      <td>3</td>\n",
       "    </tr>\n",
       "    <tr>\n",
       "      <td>4</td>\n",
       "      <td>121.000000</td>\n",
       "      <td>2</td>\n",
       "    </tr>\n",
       "    <tr>\n",
       "      <td>...</td>\n",
       "      <td>...</td>\n",
       "      <td>...</td>\n",
       "    </tr>\n",
       "    <tr>\n",
       "      <td>23694</td>\n",
       "      <td>180.888634</td>\n",
       "      <td>3</td>\n",
       "    </tr>\n",
       "    <tr>\n",
       "      <td>23695</td>\n",
       "      <td>45.000000</td>\n",
       "      <td>3</td>\n",
       "    </tr>\n",
       "    <tr>\n",
       "      <td>23696</td>\n",
       "      <td>180.888634</td>\n",
       "      <td>2</td>\n",
       "    </tr>\n",
       "    <tr>\n",
       "      <td>23697</td>\n",
       "      <td>602.000000</td>\n",
       "      <td>2</td>\n",
       "    </tr>\n",
       "    <tr>\n",
       "      <td>23698</td>\n",
       "      <td>180.888634</td>\n",
       "      <td>1</td>\n",
       "    </tr>\n",
       "  </tbody>\n",
       "</table>\n",
       "<p>23699 rows × 2 columns</p>\n",
       "</div>"
      ],
      "text/plain": [
       "       days_listed  bedrooms\n",
       "0       180.888634         3\n",
       "1        81.000000         1\n",
       "2       558.000000         2\n",
       "3       424.000000         3\n",
       "4       121.000000         2\n",
       "...            ...       ...\n",
       "23694   180.888634         3\n",
       "23695    45.000000         3\n",
       "23696   180.888634         2\n",
       "23697   602.000000         2\n",
       "23698   180.888634         1\n",
       "\n",
       "[23699 rows x 2 columns]"
      ]
     },
     "execution_count": 75,
     "metadata": {},
     "output_type": "execute_result"
    }
   ],
   "source": [
    "cols =['days_listed', 'bedrooms']\n",
    "data[cols].fillna(data[cols].mean())"
   ]
  },
  {
   "cell_type": "code",
   "execution_count": 76,
   "metadata": {},
   "outputs": [
    {
     "name": "stdout",
     "output_type": "stream",
     "text": [
      "date_posted              0\n",
      "is_open_plan             0\n",
      "is_studio                0\n",
      "total_images             0\n",
      "total_area               0\n",
      "floor                    0\n",
      "bedrooms                 0\n",
      "last_price               0\n",
      "locality_name           49\n",
      "floors_total            86\n",
      "living_area           1903\n",
      "kitchen_area          2278\n",
      "days_listed           3181\n",
      "parks_within_3000     5518\n",
      "ponds_within_3000     5518\n",
      "city_center_dist      5519\n",
      "airport_dist          5542\n",
      "ceiling_height        9195\n",
      "balconies            11519\n",
      "pond_dist            14589\n",
      "park_dist            15620\n",
      "bike_parking         20924\n",
      "dtype: int64\n"
     ]
    }
   ],
   "source": [
    "#Show missing values\n",
    "data2=data.isnull().sum().sort_values(na_position='first')\n",
    "print(data2)\n",
    "#print(data[data.isnull().any(axis=1)].head())\n",
    "\n",
    "#replace missing values with average of entire columns\n",
    "\n",
    "data['locality_name'] = data['locality_name'].fillna('Nameless Locality')\n",
    "cols=['floors_total','living_area','parks_within_3000','ponds_within_3000','city_center_dist','airport_dist','ceiling_height','balconies','pond_dist','park_dist','kitchen_area','days_listed']\n",
    "data[cols]=data[cols].fillna(data[cols].mean())\n",
    "data['bike_parking']=data['bike_parking'].fillna(0)\n",
    "\n",
    "\n",
    "\n",
    "#convert values into integers\n",
    "#data['days_employed'] = data['days_employed'].astype(int)\n",
    "data[['parks_within_3000','park_dist','city_center_dist','airport_dist','bike_parking','total_images','floor','floors_total','ceiling_height','balconies','total_area','living_area','kitchen_area','bedrooms','last_price','days_listed','pond_dist','ponds_within_3000']] = data[['parks_within_3000','park_dist','city_center_dist','airport_dist','bike_parking','total_images','floor','floors_total','ceiling_height','balconies','total_area','living_area','kitchen_area','bedrooms','last_price','days_listed','pond_dist','ponds_within_3000']].astype(int)\n",
    "data['date_posted'] = pd.to_datetime(data['date_posted'], format = '%Y-%m-%d')\n",
    "\n",
    "\n",
    "\n",
    "\n"
   ]
  },
  {
   "cell_type": "code",
   "execution_count": 77,
   "metadata": {},
   "outputs": [
    {
     "name": "stdout",
     "output_type": "stream",
     "text": [
      "date_posted          0\n",
      "parks_within_3000    0\n",
      "park_dist            0\n",
      "city_center_dist     0\n",
      "airport_dist         0\n",
      "locality_name        0\n",
      "is_open_plan         0\n",
      "is_studio            0\n",
      "bike_parking         0\n",
      "total_images         0\n",
      "floor                0\n",
      "floors_total         0\n",
      "ceiling_height       0\n",
      "balconies            0\n",
      "total_area           0\n",
      "living_area          0\n",
      "kitchen_area         0\n",
      "bedrooms             0\n",
      "last_price           0\n",
      "days_listed          0\n",
      "pond_dist            0\n",
      "ponds_within_3000    0\n",
      "dtype: int64\n"
     ]
    }
   ],
   "source": [
    "data2=data.isnull().sum().sort_values(na_position='first')\n",
    "print(data2)"
   ]
  },
  {
   "cell_type": "markdown",
   "metadata": {},
   "source": [
    "# Conclusion"
   ]
  },
  {
   "cell_type": "markdown",
   "metadata": {},
   "source": [
    "Columns with numbers are indication we have Nan values there. Nan rows in each column per se. 0 next to a column means there are no Nan values in there. using fillna i replaced nan values.\n",
    "\n",
    "No Nan values exist as we averaged them all out, except for locality name. For now Any Nan locality will be called Nameless Locality. \n",
    "\n",
    "All the rest columns that had missing values were numeric values that we could average down.  Values could be missing because people providing data couldnt tell or didnt record the data because data providers could be people who have never been to the location to tell all the details. Luckily not too many places have missing data. \n",
    "\n",
    "I decided that city has parks no matter what and decided to give Nan values average. I decided to replace Nan values with 0 only places where bike parking and balconies had Nan values because it is likely that houses have no bike parking and balconies. With ponds and parks and other data it is more likely there is one nearby so I gave values to average it out.\n",
    "\n",
    "changed all numeric values to int type to make it easier when calculating as we are not afraid to lose decimals, which also helps to upper or lower averages. Also for date_time I removed time as it doesnt seem to be necessary feature for this project, so I left only Year, Month,and Day.\n"
   ]
  },
  {
   "cell_type": "markdown",
   "metadata": {},
   "source": [
    "### Step 3. Make calculations and add them to the table"
   ]
  },
  {
   "cell_type": "code",
   "execution_count": 78,
   "metadata": {},
   "outputs": [
    {
     "name": "stdout",
     "output_type": "stream",
     "text": [
      "  date_posted  days_listed  last_price  bedrooms  kitchen_area  living_area  \\\n",
      "0  2019-03-07          180      260000         3            25           51   \n",
      "1  2018-12-04           81       67000         1            11           18   \n",
      "2  2015-08-20          558      103920         2             8           34   \n",
      "3  2015-07-24          424     1298000         3            10           34   \n",
      "4  2018-06-19          121      200000         2            41           32   \n",
      "\n",
      "   total_area  balconies  ceiling_height  floors_total  ...  city_center_dist  \\\n",
      "0         108          1               2            16  ...             16028   \n",
      "1          40          2               2            11  ...             18603   \n",
      "2          56          0               2             5  ...             13933   \n",
      "3         159          0               2            14  ...              6800   \n",
      "4         100          1               3            14  ...              8098   \n",
      "\n",
      "   park_dist  parks_within_3000  pond_dist  ponds_within_3000  \\\n",
      "0        482                  1        755                  2   \n",
      "1        490                  0        517                  0   \n",
      "2         90                  1        574                  2   \n",
      "3         84                  2        234                  3   \n",
      "4        112                  2         48                  1   \n",
      "\n",
      "  price_per_square  ad_published  floor_in_bld  living_ratio  kitchen_ratio  \n",
      "0      2407.407407    07/03/2019         other     47.222222      23.148148  \n",
      "1      1675.000000    04/12/2018         first     45.000000      27.500000  \n",
      "2      1855.714286    20/08/2015         other     60.714286      14.285714  \n",
      "3      8163.522013    24/07/2015         other     21.383648       6.289308  \n",
      "4      2000.000000    19/06/2018         other     32.000000      41.000000  \n",
      "\n",
      "[5 rows x 27 columns]\n"
     ]
    }
   ],
   "source": [
    "#price of square meter, divide last price by total area and safve in price_per_square column\n",
    "data['price_per_square']=data['last_price']/ data['total_area']\n",
    "#calculated and added to the table: the day of the week, month, and year that the ad was published\n",
    "data['ad_published']= data['date_posted'].dt.strftime('%d/%m/%Y')\n",
    "#calculated and added to the table: which floor the apartment is on (first, last, or other)\n",
    "def blds(row):\n",
    "    if row['floor'] == 1:\n",
    "        return 'first'\n",
    "    if row['floor'] == row['floors_total']:\n",
    "        return 'last'\n",
    "    return 'other'\n",
    " \n",
    "data['floor_in_bld'] = data.apply(blds, axis=1)\n",
    "\n",
    "#calculated and added to the table: the ratio between the living space and the total area, \n",
    "#as well as between the kitchen space and the total area\n",
    "data['living_ratio']=(data['living_area']/data['total_area'])*100\n",
    "data['kitchen_ratio']=(data['kitchen_area']/data['total_area'])*100\n",
    "print(data.head())\n"
   ]
  },
  {
   "cell_type": "markdown",
   "metadata": {},
   "source": [
    "<div style=\"border:solid green 4px; padding: 20px\">Good <code>apply()</code> call with a correct auxiliary function implementation.</div>"
   ]
  },
  {
   "cell_type": "markdown",
   "metadata": {},
   "source": [
    "the price per square meter was saved as last_price/total area and saved as price_per_square\n",
    "the day of the week, month, and year that the ad was published was saved under ad_published.\n",
    "floor the apartment is on (first, last, or other) was saved in floor_in_bld column\n",
    "the ratio between the living space and the total area, as well as between the kitchen space and the total area were saved living_ratio and kitchen ratio by divind kitchen and livin area by total area.\n",
    "\n",
    "printed is the result of first 5 rows of the result."
   ]
  },
  {
   "cell_type": "markdown",
   "metadata": {},
   "source": [
    "### Step 4. Conduct exploratory data analysis and follow the instructions below:"
   ]
  },
  {
   "cell_type": "code",
   "execution_count": 97,
   "metadata": {
    "scrolled": false
   },
   "outputs": [
    {
     "data": {
      "text/plain": [
       "<matplotlib.axes._subplots.AxesSubplot at 0x7fbca9cce950>"
      ]
     },
     "execution_count": 97,
     "metadata": {},
     "output_type": "execute_result"
    },
    {
     "data": {
      "image/png": "[encoded data removed]",
      "text/plain": [
       "<Figure size 1440x360 with 1 Axes>"
      ]
     },
     "metadata": {
      "needs_background": "light"
     },
     "output_type": "display_data"
    }
   ],
   "source": [
    "#investigate the following parameters: square area, price, number of rooms, and ceiling height. \n",
    "#Plot a histogram for each parameter.\n",
    "#square area\n",
    "data.plot(y='total_area', kind='hist',range=(data['price_per_square'].min(),1000),bins=100,figsize=(20,5))\n",
    "\n"
   ]
  },
  {
   "cell_type": "code",
   "execution_count": 96,
   "metadata": {},
   "outputs": [
    {
     "data": {
      "text/plain": [
       "<matplotlib.axes._subplots.AxesSubplot at 0x7fbcaa8e18d0>"
      ]
     },
     "execution_count": 96,
     "metadata": {},
     "output_type": "execute_result"
    },
    {
     "data": {
      "image/png": "[encoded data removed]",
      "text/plain": [
       "<Figure size 1440x360 with 1 Axes>"
      ]
     },
     "metadata": {
      "needs_background": "light"
     },
     "output_type": "display_data"
    }
   ],
   "source": [
    "#histogram of prices \n",
    "mean_price=data['last_price'].mean() #average price\n",
    "max_price=data['last_price'].max() #maximum price\n",
    "starting_price= mean_price/8 # I decided to allow have a minimum price be 8 times cheaper than a minumum\n",
    "ending_price = mean_price *8 # I decided to allow to have maximum price to be 8 times higher than average\n",
    "data.plot(y='last_price', kind='hist',range=(data['last_price'].min(),ending_price),bins=800,figsize=(20,5))\n",
    "\n"
   ]
  },
  {
   "cell_type": "code",
   "execution_count": 93,
   "metadata": {},
   "outputs": [
    {
     "data": {
      "text/plain": [
       "<matplotlib.axes._subplots.AxesSubplot at 0x7fbcb529d810>"
      ]
     },
     "execution_count": 93,
     "metadata": {},
     "output_type": "execute_result"
    },
    {
     "data": {
      "image/png": "[encoded data removed]",
      "text/plain": [
       "<Figure size 1440x360 with 1 Axes>"
      ]
     },
     "metadata": {
      "needs_background": "light"
     },
     "output_type": "display_data"
    }
   ],
   "source": [
    "#histogram for number of rooms\n",
    "data.plot(y='bedrooms', kind='hist',range=(1,data['bedrooms'].max()),bins=100,figsize=(20,5))\n",
    "\n"
   ]
  },
  {
   "cell_type": "code",
   "execution_count": 94,
   "metadata": {},
   "outputs": [
    {
     "data": {
      "text/plain": [
       "<matplotlib.axes._subplots.AxesSubplot at 0x7fbcb51a4d50>"
      ]
     },
     "execution_count": 94,
     "metadata": {},
     "output_type": "execute_result"
    },
    {
     "data": {
      "image/png": "[encoded data removed]",
      "text/plain": [
       "<Figure size 1440x360 with 1 Axes>"
      ]
     },
     "metadata": {
      "needs_background": "light"
     },
     "output_type": "display_data"
    }
   ],
   "source": [
    "#histogram of ceiling height\n",
    "data.plot(y='ceiling_height', kind='hist',range=(data['ceiling_height'].min(),25),bins=1000,figsize=(20,5))\n",
    "\n"
   ]
  },
  {
   "cell_type": "code",
   "execution_count": 95,
   "metadata": {},
   "outputs": [
    {
     "data": {
      "image/png": "[encoded data removed]",
      "text/plain": [
       "<Figure size 1440x360 with 1 Axes>"
      ]
     },
     "metadata": {
      "needs_background": "light"
     },
     "output_type": "display_data"
    }
   ],
   "source": [
    "#days_listed\n",
    "data.plot(y='days_listed', kind='hist',range=(data['days_listed'].min(),data['days_listed'].max()),bins=2000,figsize=(20,5))\n",
    "average_time_to_sell = data['days_listed'].mean()\n",
    "median_time_to_sell=data['days_listed'].median()\n"
   ]
  },
  {
   "cell_type": "code",
   "execution_count": 100,
   "metadata": {},
   "outputs": [
    {
     "name": "stdout",
     "output_type": "stream",
     "text": [
      "Average Days taken to sell a house:  180.7693573568505\n",
      "Median data of days to sell a house 124.0\n"
     ]
    }
   ],
   "source": [
    "print('Average Days taken to sell a house: ',average_time_to_sell)\n",
    "print('Median data of days to sell a house', median_time_to_sell)\n",
    "\n",
    "#get rid of extremes from total_area, last_price, bedrooms, ceiling height, days_listed\n",
    "good_data= data.query(('20 <= total_area <= 250') and ('0<=last_price <= 500000') and ('1<=bedrooms<=9 & 1<=ceiling_height<=5') and ('0<=days_listed<=300 & days_listed != 45') )\n",
    "\n"
   ]
  },
  {
   "cell_type": "code",
   "execution_count": 80,
   "metadata": {},
   "outputs": [
    {
     "name": "stdout",
     "output_type": "stream",
     "text": [
      "<condition 1> <logical operator>\n",
      "\n",
      "<condition n>\n",
      "\n"
     ]
    }
   ],
   "source": [
    "print('''<condition 1> <logical operator>\n",
    "...\n",
    "<condition n>\n",
    "''')"
   ]
  },
  {
   "cell_type": "markdown",
   "metadata": {},
   "source": [
    "First histogram is a histogram of square price tha goes from minimum to 1000 as anything above 1000 is outlier and would be unreallistically expensive. It appears 50 is most common value for price per square meter.\n",
    "\n",
    "Second histogram  is for last_price. I took the average and divided it by8 to get the 8 times cheaper price and multiplied by 8 to get 8 times as max of average to set the limits. Appears around 70k-80k is most common found prices for apartments. \n",
    "\n",
    "Third Histogram is for number of rooms/bedrooms. Appears that 1 bedroom apartments are most predominant , closely followed by 2 bedrooms, 3 bedrooms is not too far away in number  but it sharply decreases for 4 bedroom apartments and  eveb further for more than 5 bedrooms. 9 Bedrooms is the most bedrooms that exists for apartments.\n",
    "\n",
    "Fourth histogram is  celing height and it seems 2 meters is most common, then 3 meters which is substantially less. and only few places with 4 meters of ceiling height. I put a limit of 20 meters height cause apartments with 20 meters sounds like an outlier.\n",
    "\n",
    "Fifth Histogram is is how many days apartment was listed for. Seems like apartments get sold pretty quickly as the graph shows it declines steadily as the days progress. There is a weird unusual spike around 45 days though, which we will take care of later. And it seems like 200 days is optimal amount of days to have apartment listed.\n",
    "\n",
    "Average Days taken to sell a house:  180.7693573568505\n",
    "Median data of days to sell a house 124.0\n",
    "\n",
    "Anything sold past 200 days is too slow, anything sold before 50 days is pretty quick.\n",
    "\n",
    "Removed rare and outlying values from for total_area , left info of (20 <= total_area <= 250) ,last_price of ( 0<=last_price <= 500000), I left 0 because some houses can be so old that nobody wants to buy. Bedrooms I chose amount between 1 and 9, and for ceiling height 1 between 5, and days post listed between   0 and 300. I also removed days_listed that are 45 days as it had weirdly huge spike. Saved all that info in good_data table.\n",
    "\n"
   ]
  },
  {
   "cell_type": "code",
   "execution_count": 7,
   "metadata": {
    "scrolled": false
   },
   "outputs": [
    {
     "name": "stdout",
     "output_type": "stream",
     "text": [
      "                  bedrooms  city_center_dist     floor  price_per_square\n",
      "bedrooms          1.000000         -0.365822 -0.065631          0.303278\n",
      "city_center_dist -0.365822          1.000000  0.034378         -0.379054\n",
      "floor            -0.065631          0.034378  1.000000         -0.017340\n",
      "price_per_square  0.303278         -0.379054 -0.017340          1.000000\n",
      "\n",
      "                              mean            count\n",
      "                  price_per_square price_per_square\n",
      "locality_name                                      \n",
      "Saint Petersburg       2210.494051            12317\n",
      "Murino village         1719.497458              435\n",
      "Shushary village       1588.231015              353\n",
      "Vsevolozhsk            1390.840786              302\n",
      "Pushkin                2046.310970              291\n",
      "Kolpino                1518.205310              270\n",
      "Pargolovo village      1819.296981              251\n",
      "Gatchina               1391.585167              237\n",
      "Kudrovo village        1860.286095              213\n",
      "Vyborg                 1176.087985              176\n",
      "Lowest prices for localities:\n",
      "                                 mean      count\n",
      "                           last_price last_price\n",
      "locality_name                                   \n",
      "village Yam-Tesovo             9000.0          1\n",
      "Miny village                  30000.0          1\n",
      "Sovkhozny village             11300.0          1\n",
      "Staraya Ladoga village        22000.0          1\n",
      "Menkovo village               32000.0          1\n",
      "Manuylovo village             23400.0          1\n",
      "Staroye Khinkolovo village    52000.0          1\n",
      "Sumino village                22000.0          1\n",
      "Malaya Romanovka village      17000.0          1\n",
      "Lyuban village                52000.0          1\n",
      "Highest prices for localities:\n",
      "                            mean      count\n",
      "                      last_price last_price\n",
      "locality_name                              \n",
      "Saint Petersburg   132653.453763      12317\n",
      "Murino village      74005.326437        435\n",
      "Shushary village    83868.878187        353\n",
      "Vsevolozhsk         77834.834437        302\n",
      "Pushkin            117619.625430        291\n",
      "Kolpino             77868.014815        270\n",
      "Pargolovo village   92400.820717        251\n",
      "Gatchina            69863.658228        237\n",
      "Kudrovo village     89081.028169        213\n",
      "Vyborg              66723.181818        176\n"
     ]
    }
   ],
   "source": [
    "'''\n",
    "- [ ]  task completed: \"Which factors have had the biggest influence on an apartment’s value? \n",
    "1)Examine whether the value depends on price per meter, number of rooms, floor (top or bottom), \n",
    "or the proximity to the downtown area. \n",
    "\n",
    "2)Also study the correlation to the ad posting date: day of the week, month, and year. \n",
    "\"Select the 10 places with the largest number of ads and then calculate the average price per square meter in these localities. \n",
    "Select the locations with the highest and lowest housing prices. \n",
    "You can find this data by name in the ’*locality_name’* column. \"\n",
    "'''\n",
    "corr_data=data.pivot_table(index='last_price', values=['price_per_square','bedrooms','floor','city_center_dist'], aggfunc='mean')\n",
    "print(corr_data.corr())\n",
    "\n",
    "locality_square_price=good_data.pivot_table(index=['locality_name'], values=['price_per_square'] , aggfunc=['mean','count'])\n",
    "print()\n",
    "print(locality_square_price.sort_values(by = ('count', 'price_per_square'),ascending=False).head(10))\n",
    "#Select the locations with the highest and lowest housing prices. \n",
    "locality_prices=good_data.pivot_table(index=['locality_name'], values=['last_price'] , aggfunc=['mean','count'])\n",
    "print('Lowest prices for localities:')\n",
    "print(locality_prices.sort_values(by = ('count', 'last_price'),ascending=True).head(10))\n",
    "print('Highest prices for localities:')\n",
    "print(locality_prices.sort_values(by = ('count', 'last_price'),ascending=False).head(10))\n"
   ]
  },
  {
   "cell_type": "markdown",
   "metadata": {},
   "source": [
    "<div style=\"border:solid green 4px; padding: 20px\">Okay, very good.</div>"
   ]
  },
  {
   "cell_type": "markdown",
   "metadata": {},
   "source": [
    "First output is the correllation of bedrooms, city_center_distance, floor, and price per square. It seems like highest corellation between these values is bedrooms and price per square, how close to city and number of bedrooms apartment has. Number of rooms definetely has high corellation to price per square. Not sure about negative values. If the negation doesnt matter, then price per square meter and closeness to downtown is the highest factor for price.\n",
    "\n",
    "second output shows that there are far more apartments in Saint_Petersburg mean price per square meter is 2210 and there are 12317 such apartments. Prices and number of such apartments with high values drop as we look at other places.\n",
    "\n",
    "third output shows that villages have lowest number of apartments counts with mean values. I tried sorting with lowest value but it sorts by count.\n",
    "\n",
    "fourth apartment shows that St Petersburg is one the most expenisve and most locations having the expensive apartments. Again wasnt able to sort by value as it sorted by count.\n"
   ]
  },
  {
   "cell_type": "code",
   "execution_count": 104,
   "metadata": {},
   "outputs": [
    {
     "name": "stderr",
     "output_type": "stream",
     "text": [
      "/opt/conda/lib/python3.7/site-packages/ipykernel_launcher.py:9: SettingWithCopyWarning: \n",
      "A value is trying to be set on a copy of a slice from a DataFrame.\n",
      "Try using .loc[row_indexer,col_indexer] = value instead\n",
      "\n",
      "See the caveats in the documentation: http://pandas.pydata.org/pandas-docs/stable/user_guide/indexing.html#returning-a-view-versus-a-copy\n",
      "  if __name__ == '__main__':\n"
     ]
    },
    {
     "data": {
      "image/png": "[encoded data removed]",
      "text/plain": [
       "<Figure size 864x360 with 1 Axes>"
      ]
     },
     "metadata": {
      "needs_background": "light"
     },
     "output_type": "display_data"
    }
   ],
   "source": [
    "#task completed: \"Thoroughly look at apartment offers: each apartment has information about the distance to the downtown area. \n",
    "#Select apartments in Saint Petersburg (*‘locality_name’*). Your task is to pinpoint which area is considered to be downtown. \n",
    "#Create a column with the distance to the downtown area in km and round to the nearest whole number. \n",
    "#Next, calculate the average price for each kilometer. \n",
    "#Build a graph to display how prices are affected by the distance to the downtown area. \n",
    "#Define the turning point where the graph significantly changes. This will indicate downtown. \"\n",
    "\n",
    "\n",
    "good_data['km_downtown']=(good_data['city_center_dist']/1000).astype(int)\n",
    "\n",
    "(good_data\n",
    " .query('locality_name == \"Saint Petersburg\"')\n",
    " .pivot_table(index='km_downtown', values='last_price', aggfunc='mean')\n",
    " .plot(grid=True, figsize=(12, 5))\n",
    ");\n",
    "\n",
    "\n"
   ]
  },
  {
   "cell_type": "markdown",
   "metadata": {},
   "source": [
    "Price of apartments in Saint Petersburg going down in price as they get away further from downtown. Notice after 5 kilometers it just keeps going down quickly. It feels best on 7th and 8th kilometers especially. I think downtown is max of 7 kilometers as after it prices steeply go down."
   ]
  },
  {
   "cell_type": "markdown",
   "metadata": {},
   "source": [
    "<div style=\"border:solid green 4px; padding: 20px\">I agree with your conclusions here.</div>"
   ]
  },
  {
   "cell_type": "code",
   "execution_count": 107,
   "metadata": {},
   "outputs": [
    {
     "data": {
      "text/html": [
       "<div>\n",
       "<style scoped>\n",
       "    .dataframe tbody tr th:only-of-type {\n",
       "        vertical-align: middle;\n",
       "    }\n",
       "\n",
       "    .dataframe tbody tr th {\n",
       "        vertical-align: top;\n",
       "    }\n",
       "\n",
       "    .dataframe thead th {\n",
       "        text-align: right;\n",
       "    }\n",
       "</style>\n",
       "<table border=\"1\" class=\"dataframe\">\n",
       "  <thead>\n",
       "    <tr style=\"text-align: right;\">\n",
       "      <th></th>\n",
       "      <th>price_per_square</th>\n",
       "      <th>last_price</th>\n",
       "      <th>bedrooms</th>\n",
       "      <th>ceiling_height</th>\n",
       "    </tr>\n",
       "  </thead>\n",
       "  <tbody>\n",
       "    <tr>\n",
       "      <td>price_per_square</td>\n",
       "      <td>1.000000</td>\n",
       "      <td>0.744995</td>\n",
       "      <td>0.028961</td>\n",
       "      <td>0.125525</td>\n",
       "    </tr>\n",
       "    <tr>\n",
       "      <td>last_price</td>\n",
       "      <td>0.744995</td>\n",
       "      <td>1.000000</td>\n",
       "      <td>0.364678</td>\n",
       "      <td>0.069560</td>\n",
       "    </tr>\n",
       "    <tr>\n",
       "      <td>bedrooms</td>\n",
       "      <td>0.028961</td>\n",
       "      <td>0.364678</td>\n",
       "      <td>1.000000</td>\n",
       "      <td>0.069797</td>\n",
       "    </tr>\n",
       "    <tr>\n",
       "      <td>ceiling_height</td>\n",
       "      <td>0.125525</td>\n",
       "      <td>0.069560</td>\n",
       "      <td>0.069797</td>\n",
       "      <td>1.000000</td>\n",
       "    </tr>\n",
       "  </tbody>\n",
       "</table>\n",
       "</div>"
      ],
      "text/plain": [
       "                  price_per_square  last_price  bedrooms  ceiling_height\n",
       "price_per_square          1.000000    0.744995  0.028961        0.125525\n",
       "last_price                0.744995    1.000000  0.364678        0.069560\n",
       "bedrooms                  0.028961    0.364678  1.000000        0.069797\n",
       "ceiling_height            0.125525    0.069560  0.069797        1.000000"
      ]
     },
     "metadata": {},
     "output_type": "display_data"
    },
    {
     "data": {
      "text/html": [
       "<div>\n",
       "<style scoped>\n",
       "    .dataframe tbody tr th:only-of-type {\n",
       "        vertical-align: middle;\n",
       "    }\n",
       "\n",
       "    .dataframe tbody tr th {\n",
       "        vertical-align: top;\n",
       "    }\n",
       "\n",
       "    .dataframe thead th {\n",
       "        text-align: right;\n",
       "    }\n",
       "</style>\n",
       "<table border=\"1\" class=\"dataframe\">\n",
       "  <thead>\n",
       "    <tr style=\"text-align: right;\">\n",
       "      <th></th>\n",
       "      <th>bedrooms</th>\n",
       "      <th>floor</th>\n",
       "      <th>km_downtown</th>\n",
       "    </tr>\n",
       "  </thead>\n",
       "  <tbody>\n",
       "    <tr>\n",
       "      <td>bedrooms</td>\n",
       "      <td>1.000000</td>\n",
       "      <td>-0.149670</td>\n",
       "      <td>-0.271956</td>\n",
       "    </tr>\n",
       "    <tr>\n",
       "      <td>floor</td>\n",
       "      <td>-0.149670</td>\n",
       "      <td>1.000000</td>\n",
       "      <td>0.221813</td>\n",
       "    </tr>\n",
       "    <tr>\n",
       "      <td>km_downtown</td>\n",
       "      <td>-0.271956</td>\n",
       "      <td>0.221813</td>\n",
       "      <td>1.000000</td>\n",
       "    </tr>\n",
       "  </tbody>\n",
       "</table>\n",
       "</div>"
      ],
      "text/plain": [
       "             bedrooms     floor  km_downtown\n",
       "bedrooms     1.000000 -0.149670    -0.271956\n",
       "floor       -0.149670  1.000000     0.221813\n",
       "km_downtown -0.271956  0.221813     1.000000"
      ]
     },
     "metadata": {},
     "output_type": "display_data"
    },
    {
     "data": {
      "text/plain": [
       "array([[<matplotlib.axes._subplots.AxesSubplot object at 0x7fbcca2eaa10>,\n",
       "        <matplotlib.axes._subplots.AxesSubplot object at 0x7fbcca261f50>],\n",
       "       [<matplotlib.axes._subplots.AxesSubplot object at 0x7fbcab213e10>,\n",
       "        <matplotlib.axes._subplots.AxesSubplot object at 0x7fbcab577b10>]],\n",
       "      dtype=object)"
      ]
     },
     "execution_count": 107,
     "metadata": {},
     "output_type": "execute_result"
    },
    {
     "data": {
      "image/png": "[encoded data removed]",
      "text/plain": [
       "<Figure size 720x720 with 4 Axes>"
      ]
     },
     "metadata": {
      "needs_background": "light"
     },
     "output_type": "display_data"
    },
    {
     "data": {
      "image/png": "[encoded data removed]",
      "text/plain": [
       "<Figure size 720x720 with 4 Axes>"
      ]
     },
     "metadata": {
      "needs_background": "light"
     },
     "output_type": "display_data"
    }
   ],
   "source": [
    "#task completed: \"Select a segment of apartments in the downtown. Analyze this area and examine the following parameters: \n",
    "#square area, price, number of rooms, ceiling height. \n",
    "\n",
    "st_petersburg_downtown= good_data[good_data['km_downtown']<=5] \n",
    "st_petersburg_downtown= good_data[good_data['locality_name']==\"Saint Petersburg\"]\n",
    "st_pet_corr=st_petersburg_downtown\n",
    "st_pet_corr1=st_pet_corr[['price_per_square', 'last_price', 'bedrooms', 'ceiling_height']]\n",
    "display(st_pet_corr1.corr())\n",
    "st_pet_corr1.hist(bins = 50, figsize=(10,10))\n",
    "\n",
    "#Also identify the factors that affect an apartment’s price\n",
    "#(number of rooms, floor, distance to the downtown area, and ad publication date). Draw your conclusions. \n",
    "#Are they different from the overall conclusions about the entire city?\"\n",
    "\n",
    "st_pet_corr2=st_pet_corr[['bedrooms', 'floor', 'km_downtown', 'date_posted']]\n",
    "display(st_pet_corr2.corr())\n",
    "st_pet_corr2.hist(bins = 50, figsize=(10,10))\n"
   ]
  },
  {
   "cell_type": "markdown",
   "metadata": {},
   "source": [
    "<div style=\"border:solid green 4px; padding: 20px\"><code>.corr()</code> returns dataframe, so, a better way of showing that would be via <code>display()</code> function than via <code>print()</code>.</div>"
   ]
  },
  {
   "cell_type": "markdown",
   "metadata": {},
   "source": [
    "First we see a corellation that last_price and price per square have 56% corellation, Bedrooms and last price is the next closes 55% corelllation in our output.\n",
    "\n",
    "Floor and distance from downtown is the next highest corellation we see.\n",
    "\n",
    "Corellation based on histograms show that Saint petersburg is a bit different compared to average data. It has more apartments on 10-15 km away from downtown. With floors most abundant between 1 and 5. Price being on average around 2000+rubles.Rest of the data is similar to overall data.\n"
   ]
  },
  {
   "cell_type": "markdown",
   "metadata": {},
   "source": [
    "### Step 5. Overall conclusion"
   ]
  },
  {
   "cell_type": "markdown",
   "metadata": {},
   "source": [
    "It seems like 1 and 2 bedrooms are most prevalent apartments. Next is prices go down as we go away from center city pretty fast. Average apartments cost 100K and apartments do sell pretty quickly if you consider 6 months being listed ok. Most apartments sell quickly though. Saint Petersburg is an expensive city but it also has highest number of apartments for sale, meaning it must be a big and an urban city looking at the data itself (obviously St. Petersburg is a huge city but let's assume we didnt know and now we know based on data).\n",
    "\n",
    "Seems like Saint Petersburg is expensive and while apartments are usually found close to 7th kilemeter. Most apartents in Saint Petersburg are on 10-15 km found on sale.\n",
    "\n",
    "There is a corellation between number of bedrooms, price, and even a ceiling hieight somewhat. Closeness to downtown defientely is a factor too."
   ]
  },
  {
   "cell_type": "markdown",
   "metadata": {},
   "source": [
    "<div style=\"border:solid green 4px; padding: 20px\">Okay, you alredy have done a great job, please make those fixes I pointed out, they mostly mean structure changes. Waiting for your respond, thank you for your time!<br><hr><b>upd. </b>Changes done, best of luck at future projects.</div>"
   ]
  },
  {
   "cell_type": "markdown",
   "metadata": {},
   "source": [
    "### Project completion checklist\n",
    "\n",
    "Mark the completed tasks with 'x'. Then press Shift+Enter."
   ]
  },
  {
   "cell_type": "markdown",
   "metadata": {},
   "source": [
    "- [x]  file opened\n",
    "- [x]  files explored (first rows printed, info() method)\n",
    "- [x]  missing values determined\n",
    "- [x]  missing values filled in\n",
    "- [x]  clarification of the discovered missing values provided\n",
    "- [x]  data types converted\n",
    "- [x]  explanation of which columns had the data types changed and why\n",
    "- [x]  calculated and added to the table: the price per square meter\n",
    "- [x]  calculated and added to the table: the day of the week, month, and year that the ad was published\n",
    "- [x]  calculated and added to the table: which floor the apartment is on (first, last, or other)\n",
    "- [x]  calculated and added to the table: the ratio between the living space and the total area, as well as between the kitchen space and the total area\n",
    "- [x]  the following parameters investigated: square area, price, number of rooms, and ceiling height\n",
    "- [x]  histograms for each parameter created\n",
    "- [x]  task completed: \"Examine the time it's taken to sell the apartment and create a histogram. Calculate the mean and median and explain the average time it usually takes to complete a sale. When can a sale be considered extra quick or taken an extra slow?\"\n",
    "- [x]  task completed: \"Remove rare and outlying values and describe the specific details you've discovered.\"\n",
    "- [x]  task completed: \"Which factors have had the biggest influence on an apartment’s value? Examine whether the value depends on price per meter, number of rooms, floor (top or bottom), or the proximity to the downtown area. Also study the correlation to the ad posting date: day of the week, month, and year. \"Select the 10 places with the largest number of ads and then calculate the average price per square meter in these localities. Select the locations with the highest and lowest housing prices. You can find this data by name in the ’*locality_name’* column. \"\n",
    "- [x]  task completed: \"Thoroughly look at apartment offers: each apartment has information about the distance to the downtown area. Select apartments in Saint Petersburg (*‘locality_name’*). Your task is to pinpoint which area is considered to be downtown. Create a column with the distance to the downtown area in km and round to the nearest whole number. Next, calculate the average price for each kilometer. Build a graph to display how prices are affected by the distance to the downtown area. Define the turning point where the graph significantly changes. This will indicate downtown. \"\n",
    "- [x]  task completed: \"Select a segment of apartments in the downtown. Analyze this area and examine the following parameters: square area, price, number of rooms, ceiling height. Also identify the factors that affect an apartment’s price (number of rooms, floor, distance to the downtown area, and ad publication date). Draw your conclusions. Are they different from the overall conclusions about the entire city?\"\n",
    "- [x]  each stage has a conclusion\n",
    "- [x]  overall conclusion drawn"
   ]
  }
 ],
 "metadata": {
  "kernelspec": {
   "display_name": "Python 3",
   "language": "python",
   "name": "python3"
  },
  "language_info": {
   "codemirror_mode": {
    "name": "ipython",
    "version": 3
   },
   "file_extension": ".py",
   "mimetype": "text/x-python",
   "name": "python",
   "nbconvert_exporter": "python",
   "pygments_lexer": "ipython3",
   "version": "3.7.8"
  },
  "toc": {
   "base_numbering": 1,
   "nav_menu": {},
   "number_sections": true,
   "sideBar": true,
   "skip_h1_title": true,
   "title_cell": "Table of Contents",
   "title_sidebar": "Contents",
   "toc_cell": false,
   "toc_position": {},
   "toc_section_display": true,
   "toc_window_display": false
  }
 },
 "nbformat": 4,
 "nbformat_minor": 2
}
